{
 "cells": [
  {
   "cell_type": "markdown",
   "metadata": {},
   "source": [
    "# Weather Data Analysis Project\n",
    "This project analyzes weather data for a selected city using an API. We aim to explore trends in temperature, humidity, and wind speed, using:\n",
    "- `requests` to fetch data from the API,\n",
    "- `pandas` and `numpy` for data manipulation,\n",
    "- `matplotlib` and `seaborn` for data visualization.\n",
    "\n",
    "The goal is to identify trends and visualize weather patterns over time.\n"
   ]
  },
  {
   "cell_type": "code",
   "execution_count": 3,
   "metadata": {},
   "outputs": [],
   "source": [
    "import requests\n",
    "import pandas as pd\n",
    "import numpy as np\n",
    "import matplotlib.pyplot as plt\n",
    "import seaborn as sns\n",
    "\n",
    "sns.set(style=\"whitegrid\")\n"
   ]
  },
  {
   "cell_type": "code",
   "execution_count": 2,
   "metadata": {},
   "outputs": [],
   "source": [
    "Api_key = 'a4af79f753cc4a38927144054240812'\n",
    "base_url = 'https://api.weatherapi.com/v1/forecast.json' \n",
    "\n",
    "cities = [\"London\", \"New York\", \"Tokyo\", \"Paris\", \"Mumbai\"]\n"
   ]
  },
  {
   "cell_type": "code",
   "execution_count": 6,
   "metadata": {},
   "outputs": [],
   "source": [
    "weather_data  ={}\n",
    "\n",
    "for city in cities:\n",
    "    params = {\n",
    "        'key': Api_key,\n",
    "        'q' : city,\n",
    "        'days' : 8,\n",
    "        'aqi' : 'no',\n",
    "        'alerts' : 'no'\n",
    "    }\n",
    "\n",
    "    respond = requests.get(base_url , params=params , timeout=10)\n",
    "\n",
    "    if respond.status_code == 200:\n",
    "        weather_data[city] =respond.json()\n",
    "    else:\n",
    "        print(f'failed to fetch weather data for {city} , HTTP status : {respond.status_code}')"
   ]
  },
  {
   "cell_type": "code",
   "execution_count": null,
   "metadata": {},
   "outputs": [],
   "source": []
  }
 ],
 "metadata": {
  "kernelspec": {
   "display_name": "Python 3",
   "language": "python",
   "name": "python3"
  },
  "language_info": {
   "codemirror_mode": {
    "name": "ipython",
    "version": 3
   },
   "file_extension": ".py",
   "mimetype": "text/x-python",
   "name": "python",
   "nbconvert_exporter": "python",
   "pygments_lexer": "ipython3",
   "version": "3.12.1"
  }
 },
 "nbformat": 4,
 "nbformat_minor": 2
}
