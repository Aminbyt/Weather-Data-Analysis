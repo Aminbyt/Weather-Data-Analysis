{
 "cells": [
  {
   "cell_type": "markdown",
   "metadata": {},
   "source": [
    "# Weather Data Analysis Project\n",
    "This project analyzes weather data for a selected city using an API. We aim to explore trends in temperature, humidity, and wind speed, using:\n",
    "- `requests` to fetch data from the API,\n",
    "- `pandas` and `numpy` for data manipulation,\n",
    "- `matplotlib` and `seaborn` for data visualization.\n",
    "\n",
    "The goal is to identify trends and visualize weather patterns over time.\n"
   ]
  },
  {
   "cell_type": "markdown",
   "metadata": {},
   "source": []
  }
 ],
 "metadata": {
  "language_info": {
   "name": "python"
  }
 },
 "nbformat": 4,
 "nbformat_minor": 2
}
